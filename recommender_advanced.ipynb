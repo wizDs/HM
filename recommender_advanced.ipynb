{
 "cells": [
  {
   "cell_type": "code",
   "execution_count": null,
   "metadata": {},
   "outputs": [],
   "source": [
    "import pandas as pd\n",
    "import seaborn as sns\n",
    "import matplotlib.pyplot as plt\n",
    "from datetime import datetime, timedelta"
   ]
  },
  {
   "cell_type": "code",
   "execution_count": null,
   "metadata": {},
   "outputs": [],
   "source": [
    "articles        = pd.read_csv(\"data/articles.csv\")\n",
    "customers       = pd.read_csv(\"data/customers.csv\")\n",
    "submission      = pd.read_csv(\"data/sample_submission.csv\")\n",
    "transactions    = pd.read_csv(\"data/transactions_train.csv\", parse_dates=[\"t_dat\"])"
   ]
  },
  {
   "cell_type": "code",
   "execution_count": null,
   "metadata": {},
   "outputs": [],
   "source": [
    "ddf= transactions.groupby([\"customer_id\", \"article_id\"], as_index=False).size()"
   ]
  },
  {
   "cell_type": "code",
   "execution_count": null,
   "metadata": {},
   "outputs": [],
   "source": [
    "customercode= pd.factorize(ddf.customer_id)\n",
    "articlecode= pd.factorize(ddf.article_id)"
   ]
  },
  {
   "cell_type": "code",
   "execution_count": null,
   "metadata": {},
   "outputs": [],
   "source": [
    "customercode    = dict(zip(customercode[1], customercode[0]))\n",
    "articlecode     = dict(zip(articlecode[1],  articlecode[0]))"
   ]
  },
  {
   "cell_type": "code",
   "execution_count": null,
   "metadata": {},
   "outputs": [],
   "source": [
    "M = csr_matrix((ddf['size'], ddf['customer_id'].map(customercode.get), ddf['article_id'].map(articlecode.get)))\n",
    "M"
   ]
  }
 ],
 "metadata": {
  "interpreter": {
   "hash": "a7d56a5193b96be9cbef1da19ad440ea3c0e5dfb3d8a1c0545f20a420c0eec0b"
  },
  "kernelspec": {
   "display_name": "Python 3.10.2 ('env': venv)",
   "language": "python",
   "name": "python3"
  },
  "language_info": {
   "name": "python",
   "version": "3.10.2"
  },
  "orig_nbformat": 4
 },
 "nbformat": 4,
 "nbformat_minor": 2
}
