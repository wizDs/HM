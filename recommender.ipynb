{
 "cells": [
  {
   "cell_type": "code",
   "execution_count": 1,
   "metadata": {},
   "outputs": [],
   "source": [
    "import pandas as pd\n",
    "from datetime import datetime, timedelta"
   ]
  },
  {
   "cell_type": "markdown",
   "metadata": {},
   "source": [
    "# Read data"
   ]
  },
  {
   "cell_type": "code",
   "execution_count": 2,
   "metadata": {},
   "outputs": [],
   "source": [
    "transactions    = pd.read_csv(\"data/transactions_train.csv\", parse_dates=[\"t_dat\"])"
   ]
  },
  {
   "cell_type": "markdown",
   "metadata": {},
   "source": [
    "Bin transaction data in a month time span to count sales for each product each month. "
   ]
  },
  {
   "cell_type": "code",
   "execution_count": 3,
   "metadata": {},
   "outputs": [],
   "source": [
    "recommend_most_popular_df = transactions\\\n",
    "    .groupby('article_id')\\\n",
    "    .resample(\"1M\", on=\"t_dat\")\\\n",
    "    .size()\\\n",
    "    .rename(\"sales\")\\\n",
    "    .reset_index()"
   ]
  },
  {
   "cell_type": "markdown",
   "metadata": {},
   "source": [
    "This way, we can simply recommend the most popular products each month. If its the start of the month, then the previous month's popular products would be better to recommend"
   ]
  },
  {
   "cell_type": "code",
   "execution_count": 4,
   "metadata": {},
   "outputs": [],
   "source": [
    "def recommend_articles(date: datetime, n: int=10) -> list[int]:\n",
    "    year            = date.year\n",
    "    month           = date.month if date.day > 10 else (date - timedelta(days=31)).month\n",
    "    most_popular    = recommend_most_popular_df\\\n",
    "        .where(lambda x: (x.t_dat.dt.year == year) & (x.t_dat.dt.month == month))\\\n",
    "        .nlargest(n, \"sales\")\n",
    "\n",
    "    return most_popular.article_id.astype(int).tolist()"
   ]
  },
  {
   "cell_type": "markdown",
   "metadata": {},
   "source": [
    "# Use very simple popularity recommender:"
   ]
  },
  {
   "cell_type": "code",
   "execution_count": 5,
   "metadata": {},
   "outputs": [
    {
     "data": {
      "text/plain": [
       "[799190003,\n",
       " 751471001,\n",
       " 760123003,\n",
       " 706016001,\n",
       " 751471016,\n",
       " 760123001,\n",
       " 783346001,\n",
       " 759871002,\n",
       " 706016002,\n",
       " 733027002]"
      ]
     },
     "execution_count": 5,
     "metadata": {},
     "output_type": "execute_result"
    }
   ],
   "source": [
    "d = datetime(2019, 9,8)\n",
    "recommend_articles(d)"
   ]
  }
 ],
 "metadata": {
  "interpreter": {
   "hash": "a7d56a5193b96be9cbef1da19ad440ea3c0e5dfb3d8a1c0545f20a420c0eec0b"
  },
  "kernelspec": {
   "display_name": "Python 3.10.2 ('env': venv)",
   "language": "python",
   "name": "python3"
  },
  "language_info": {
   "codemirror_mode": {
    "name": "ipython",
    "version": 3
   },
   "file_extension": ".py",
   "mimetype": "text/x-python",
   "name": "python",
   "nbconvert_exporter": "python",
   "pygments_lexer": "ipython3",
   "version": "3.10.2"
  },
  "orig_nbformat": 4
 },
 "nbformat": 4,
 "nbformat_minor": 2
}
