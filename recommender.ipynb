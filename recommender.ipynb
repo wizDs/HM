{
 "cells": [
  {
   "cell_type": "code",
   "execution_count": 1,
   "metadata": {},
   "outputs": [],
   "source": [
    "import pandas as pd\n",
    "from datetime import datetime, timedelta"
   ]
  },
  {
   "cell_type": "markdown",
   "metadata": {},
   "source": [
    "# Read data"
   ]
  },
  {
   "cell_type": "code",
   "execution_count": 2,
   "metadata": {},
   "outputs": [],
   "source": [
    "transactions    = pd.read_csv(\"data/transactions_train.csv\", parse_dates=[\"t_dat\"])"
   ]
  },
  {
   "cell_type": "markdown",
   "metadata": {},
   "source": [
    "Bin transaction data in a month time span to count sales for each product each month. "
   ]
  },
  {
   "cell_type": "code",
   "execution_count": 3,
   "metadata": {},
   "outputs": [
    {
     "ename": "KeyboardInterrupt",
     "evalue": "",
     "output_type": "error",
     "traceback": [
      "\u001b[1;31m---------------------------------------------------------------------------\u001b[0m",
      "\u001b[1;31mKeyboardInterrupt\u001b[0m                         Traceback (most recent call last)",
      "\u001b[1;32mc:\\local_repos\\pandora\\recommender.ipynb Cell 5'\u001b[0m in \u001b[0;36m<cell line: 1>\u001b[1;34m()\u001b[0m\n\u001b[0;32m      <a href='vscode-notebook-cell:/c%3A/local_repos/pandora/recommender.ipynb#ch0000002?line=0'>1</a>\u001b[0m recommend_most_popular_df \u001b[39m=\u001b[39m transactions\\\n\u001b[0;32m      <a href='vscode-notebook-cell:/c%3A/local_repos/pandora/recommender.ipynb#ch0000002?line=1'>2</a>\u001b[0m     \u001b[39m.\u001b[39;49mgroupby(\u001b[39m'\u001b[39;49m\u001b[39marticle_id\u001b[39;49m\u001b[39m'\u001b[39;49m)\\\n\u001b[0;32m      <a href='vscode-notebook-cell:/c%3A/local_repos/pandora/recommender.ipynb#ch0000002?line=2'>3</a>\u001b[0m     \u001b[39m.\u001b[39;49mresample(\u001b[39m\"\u001b[39;49m\u001b[39m1M\u001b[39;49m\u001b[39m\"\u001b[39;49m, on\u001b[39m=\u001b[39;49m\u001b[39m\"\u001b[39;49m\u001b[39mt_dat\u001b[39;49m\u001b[39m\"\u001b[39;49m)\\\n\u001b[1;32m----> <a href='vscode-notebook-cell:/c%3A/local_repos/pandora/recommender.ipynb#ch0000002?line=3'>4</a>\u001b[0m     \u001b[39m.\u001b[39;49msize()\\\n\u001b[0;32m      <a href='vscode-notebook-cell:/c%3A/local_repos/pandora/recommender.ipynb#ch0000002?line=4'>5</a>\u001b[0m     \u001b[39m.\u001b[39mrename(\u001b[39m\"\u001b[39m\u001b[39msales\u001b[39m\u001b[39m\"\u001b[39m)\\\n\u001b[0;32m      <a href='vscode-notebook-cell:/c%3A/local_repos/pandora/recommender.ipynb#ch0000002?line=5'>6</a>\u001b[0m     \u001b[39m.\u001b[39mreset_index()\n",
      "File \u001b[1;32mc:\\local_repos\\pandora\\env\\lib\\site-packages\\pandas\\core\\resample.py:966\u001b[0m, in \u001b[0;36mResampler.size\u001b[1;34m(self)\u001b[0m\n\u001b[0;32m    <a href='file:///c%3A/local_repos/pandora/env/lib/site-packages/pandas/core/resample.py?line=963'>964</a>\u001b[0m \u001b[39m@doc\u001b[39m(GroupBy\u001b[39m.\u001b[39msize)\n\u001b[0;32m    <a href='file:///c%3A/local_repos/pandora/env/lib/site-packages/pandas/core/resample.py?line=964'>965</a>\u001b[0m \u001b[39mdef\u001b[39;00m \u001b[39msize\u001b[39m(\u001b[39mself\u001b[39m):\n\u001b[1;32m--> <a href='file:///c%3A/local_repos/pandora/env/lib/site-packages/pandas/core/resample.py?line=965'>966</a>\u001b[0m     result \u001b[39m=\u001b[39m \u001b[39mself\u001b[39;49m\u001b[39m.\u001b[39;49m_downsample(\u001b[39m\"\u001b[39;49m\u001b[39msize\u001b[39;49m\u001b[39m\"\u001b[39;49m)\n\u001b[0;32m    <a href='file:///c%3A/local_repos/pandora/env/lib/site-packages/pandas/core/resample.py?line=966'>967</a>\u001b[0m     \u001b[39mif\u001b[39;00m \u001b[39mnot\u001b[39;00m \u001b[39mlen\u001b[39m(\u001b[39mself\u001b[39m\u001b[39m.\u001b[39max):\n\u001b[0;32m    <a href='file:///c%3A/local_repos/pandora/env/lib/site-packages/pandas/core/resample.py?line=967'>968</a>\u001b[0m         \u001b[39mfrom\u001b[39;00m \u001b[39mpandas\u001b[39;00m \u001b[39mimport\u001b[39;00m Series\n",
      "File \u001b[1;32mc:\\local_repos\\pandora\\env\\lib\\site-packages\\pandas\\core\\resample.py:1097\u001b[0m, in \u001b[0;36m_GroupByMixin._apply\u001b[1;34m(self, f, *args, **kwargs)\u001b[0m\n\u001b[0;32m   <a href='file:///c%3A/local_repos/pandora/env/lib/site-packages/pandas/core/resample.py?line=1092'>1093</a>\u001b[0m         \u001b[39mreturn\u001b[39;00m \u001b[39mgetattr\u001b[39m(x, f)(\u001b[39m*\u001b[39m\u001b[39m*\u001b[39mkwargs)\n\u001b[0;32m   <a href='file:///c%3A/local_repos/pandora/env/lib/site-packages/pandas/core/resample.py?line=1094'>1095</a>\u001b[0m     \u001b[39mreturn\u001b[39;00m x\u001b[39m.\u001b[39mapply(f, \u001b[39m*\u001b[39margs, \u001b[39m*\u001b[39m\u001b[39m*\u001b[39mkwargs)\n\u001b[1;32m-> <a href='file:///c%3A/local_repos/pandora/env/lib/site-packages/pandas/core/resample.py?line=1096'>1097</a>\u001b[0m result \u001b[39m=\u001b[39m \u001b[39mself\u001b[39;49m\u001b[39m.\u001b[39;49m_groupby\u001b[39m.\u001b[39;49mapply(func)\n\u001b[0;32m   <a href='file:///c%3A/local_repos/pandora/env/lib/site-packages/pandas/core/resample.py?line=1097'>1098</a>\u001b[0m \u001b[39mreturn\u001b[39;00m \u001b[39mself\u001b[39m\u001b[39m.\u001b[39m_wrap_result(result)\n",
      "File \u001b[1;32mc:\\local_repos\\pandora\\env\\lib\\site-packages\\pandas\\core\\groupby\\groupby.py:1414\u001b[0m, in \u001b[0;36mGroupBy.apply\u001b[1;34m(self, func, *args, **kwargs)\u001b[0m\n\u001b[0;32m   <a href='file:///c%3A/local_repos/pandora/env/lib/site-packages/pandas/core/groupby/groupby.py?line=1411'>1412</a>\u001b[0m \u001b[39mwith\u001b[39;00m option_context(\u001b[39m\"\u001b[39m\u001b[39mmode.chained_assignment\u001b[39m\u001b[39m\"\u001b[39m, \u001b[39mNone\u001b[39;00m):\n\u001b[0;32m   <a href='file:///c%3A/local_repos/pandora/env/lib/site-packages/pandas/core/groupby/groupby.py?line=1412'>1413</a>\u001b[0m     \u001b[39mtry\u001b[39;00m:\n\u001b[1;32m-> <a href='file:///c%3A/local_repos/pandora/env/lib/site-packages/pandas/core/groupby/groupby.py?line=1413'>1414</a>\u001b[0m         result \u001b[39m=\u001b[39m \u001b[39mself\u001b[39;49m\u001b[39m.\u001b[39;49m_python_apply_general(f, \u001b[39mself\u001b[39;49m\u001b[39m.\u001b[39;49m_selected_obj)\n\u001b[0;32m   <a href='file:///c%3A/local_repos/pandora/env/lib/site-packages/pandas/core/groupby/groupby.py?line=1414'>1415</a>\u001b[0m     \u001b[39mexcept\u001b[39;00m \u001b[39mTypeError\u001b[39;00m:\n\u001b[0;32m   <a href='file:///c%3A/local_repos/pandora/env/lib/site-packages/pandas/core/groupby/groupby.py?line=1415'>1416</a>\u001b[0m         \u001b[39m# gh-20949\u001b[39;00m\n\u001b[0;32m   <a href='file:///c%3A/local_repos/pandora/env/lib/site-packages/pandas/core/groupby/groupby.py?line=1416'>1417</a>\u001b[0m         \u001b[39m# try again, with .apply acting as a filtering\u001b[39;00m\n\u001b[1;32m   (...)\u001b[0m\n\u001b[0;32m   <a href='file:///c%3A/local_repos/pandora/env/lib/site-packages/pandas/core/groupby/groupby.py?line=1420'>1421</a>\u001b[0m         \u001b[39m# fails on *some* columns, e.g. a numeric operation\u001b[39;00m\n\u001b[0;32m   <a href='file:///c%3A/local_repos/pandora/env/lib/site-packages/pandas/core/groupby/groupby.py?line=1421'>1422</a>\u001b[0m         \u001b[39m# on a string grouper column\u001b[39;00m\n\u001b[0;32m   <a href='file:///c%3A/local_repos/pandora/env/lib/site-packages/pandas/core/groupby/groupby.py?line=1423'>1424</a>\u001b[0m         \u001b[39mwith\u001b[39;00m \u001b[39mself\u001b[39m\u001b[39m.\u001b[39m_group_selection_context():\n",
      "File \u001b[1;32mc:\\local_repos\\pandora\\env\\lib\\site-packages\\pandas\\core\\groupby\\groupby.py:1455\u001b[0m, in \u001b[0;36mGroupBy._python_apply_general\u001b[1;34m(self, f, data, not_indexed_same)\u001b[0m\n\u001b[0;32m   <a href='file:///c%3A/local_repos/pandora/env/lib/site-packages/pandas/core/groupby/groupby.py?line=1428'>1429</a>\u001b[0m \u001b[39m@final\u001b[39m\n\u001b[0;32m   <a href='file:///c%3A/local_repos/pandora/env/lib/site-packages/pandas/core/groupby/groupby.py?line=1429'>1430</a>\u001b[0m \u001b[39mdef\u001b[39;00m \u001b[39m_python_apply_general\u001b[39m(\n\u001b[0;32m   <a href='file:///c%3A/local_repos/pandora/env/lib/site-packages/pandas/core/groupby/groupby.py?line=1430'>1431</a>\u001b[0m     \u001b[39mself\u001b[39m,\n\u001b[1;32m   (...)\u001b[0m\n\u001b[0;32m   <a href='file:///c%3A/local_repos/pandora/env/lib/site-packages/pandas/core/groupby/groupby.py?line=1433'>1434</a>\u001b[0m     not_indexed_same: \u001b[39mbool\u001b[39m \u001b[39m|\u001b[39m \u001b[39mNone\u001b[39;00m \u001b[39m=\u001b[39m \u001b[39mNone\u001b[39;00m,\n\u001b[0;32m   <a href='file:///c%3A/local_repos/pandora/env/lib/site-packages/pandas/core/groupby/groupby.py?line=1434'>1435</a>\u001b[0m ) \u001b[39m-\u001b[39m\u001b[39m>\u001b[39m DataFrame \u001b[39m|\u001b[39m Series:\n\u001b[0;32m   <a href='file:///c%3A/local_repos/pandora/env/lib/site-packages/pandas/core/groupby/groupby.py?line=1435'>1436</a>\u001b[0m     \u001b[39m\"\"\"\u001b[39;00m\n\u001b[0;32m   <a href='file:///c%3A/local_repos/pandora/env/lib/site-packages/pandas/core/groupby/groupby.py?line=1436'>1437</a>\u001b[0m \u001b[39m    Apply function f in python space\u001b[39;00m\n\u001b[0;32m   <a href='file:///c%3A/local_repos/pandora/env/lib/site-packages/pandas/core/groupby/groupby.py?line=1437'>1438</a>\u001b[0m \n\u001b[1;32m   (...)\u001b[0m\n\u001b[0;32m   <a href='file:///c%3A/local_repos/pandora/env/lib/site-packages/pandas/core/groupby/groupby.py?line=1452'>1453</a>\u001b[0m \u001b[39m        data after applying f\u001b[39;00m\n\u001b[0;32m   <a href='file:///c%3A/local_repos/pandora/env/lib/site-packages/pandas/core/groupby/groupby.py?line=1453'>1454</a>\u001b[0m \u001b[39m    \"\"\"\u001b[39;00m\n\u001b[1;32m-> <a href='file:///c%3A/local_repos/pandora/env/lib/site-packages/pandas/core/groupby/groupby.py?line=1454'>1455</a>\u001b[0m     values, mutated \u001b[39m=\u001b[39m \u001b[39mself\u001b[39;49m\u001b[39m.\u001b[39;49mgrouper\u001b[39m.\u001b[39;49mapply(f, data, \u001b[39mself\u001b[39;49m\u001b[39m.\u001b[39;49maxis)\n\u001b[0;32m   <a href='file:///c%3A/local_repos/pandora/env/lib/site-packages/pandas/core/groupby/groupby.py?line=1456'>1457</a>\u001b[0m     \u001b[39mif\u001b[39;00m not_indexed_same \u001b[39mis\u001b[39;00m \u001b[39mNone\u001b[39;00m:\n\u001b[0;32m   <a href='file:///c%3A/local_repos/pandora/env/lib/site-packages/pandas/core/groupby/groupby.py?line=1457'>1458</a>\u001b[0m         not_indexed_same \u001b[39m=\u001b[39m mutated \u001b[39mor\u001b[39;00m \u001b[39mself\u001b[39m\u001b[39m.\u001b[39mmutated\n",
      "File \u001b[1;32mc:\\local_repos\\pandora\\env\\lib\\site-packages\\pandas\\core\\groupby\\ops.py:761\u001b[0m, in \u001b[0;36mBaseGrouper.apply\u001b[1;34m(self, f, data, axis)\u001b[0m\n\u001b[0;32m    <a href='file:///c%3A/local_repos/pandora/env/lib/site-packages/pandas/core/groupby/ops.py?line=758'>759</a>\u001b[0m \u001b[39m# group might be modified\u001b[39;00m\n\u001b[0;32m    <a href='file:///c%3A/local_repos/pandora/env/lib/site-packages/pandas/core/groupby/ops.py?line=759'>760</a>\u001b[0m group_axes \u001b[39m=\u001b[39m group\u001b[39m.\u001b[39maxes\n\u001b[1;32m--> <a href='file:///c%3A/local_repos/pandora/env/lib/site-packages/pandas/core/groupby/ops.py?line=760'>761</a>\u001b[0m res \u001b[39m=\u001b[39m f(group)\n\u001b[0;32m    <a href='file:///c%3A/local_repos/pandora/env/lib/site-packages/pandas/core/groupby/ops.py?line=761'>762</a>\u001b[0m \u001b[39mif\u001b[39;00m \u001b[39mnot\u001b[39;00m mutated \u001b[39mand\u001b[39;00m \u001b[39mnot\u001b[39;00m _is_indexed_like(res, group_axes, axis):\n\u001b[0;32m    <a href='file:///c%3A/local_repos/pandora/env/lib/site-packages/pandas/core/groupby/ops.py?line=762'>763</a>\u001b[0m     mutated \u001b[39m=\u001b[39m \u001b[39mTrue\u001b[39;00m\n",
      "File \u001b[1;32mc:\\local_repos\\pandora\\env\\lib\\site-packages\\pandas\\core\\resample.py:1093\u001b[0m, in \u001b[0;36m_GroupByMixin._apply.<locals>.func\u001b[1;34m(x)\u001b[0m\n\u001b[0;32m   <a href='file:///c%3A/local_repos/pandora/env/lib/site-packages/pandas/core/resample.py?line=1089'>1090</a>\u001b[0m x \u001b[39m=\u001b[39m \u001b[39mself\u001b[39m\u001b[39m.\u001b[39m_shallow_copy(x, groupby\u001b[39m=\u001b[39m\u001b[39mself\u001b[39m\u001b[39m.\u001b[39mgroupby)\n\u001b[0;32m   <a href='file:///c%3A/local_repos/pandora/env/lib/site-packages/pandas/core/resample.py?line=1091'>1092</a>\u001b[0m \u001b[39mif\u001b[39;00m \u001b[39misinstance\u001b[39m(f, \u001b[39mstr\u001b[39m):\n\u001b[1;32m-> <a href='file:///c%3A/local_repos/pandora/env/lib/site-packages/pandas/core/resample.py?line=1092'>1093</a>\u001b[0m     \u001b[39mreturn\u001b[39;00m \u001b[39mgetattr\u001b[39m(x, f)(\u001b[39m*\u001b[39m\u001b[39m*\u001b[39mkwargs)\n\u001b[0;32m   <a href='file:///c%3A/local_repos/pandora/env/lib/site-packages/pandas/core/resample.py?line=1094'>1095</a>\u001b[0m \u001b[39mreturn\u001b[39;00m x\u001b[39m.\u001b[39mapply(f, \u001b[39m*\u001b[39margs, \u001b[39m*\u001b[39m\u001b[39m*\u001b[39mkwargs)\n",
      "File \u001b[1;32mc:\\local_repos\\pandora\\env\\lib\\site-packages\\pandas\\core\\resample.py:966\u001b[0m, in \u001b[0;36mResampler.size\u001b[1;34m(self)\u001b[0m\n\u001b[0;32m    <a href='file:///c%3A/local_repos/pandora/env/lib/site-packages/pandas/core/resample.py?line=963'>964</a>\u001b[0m \u001b[39m@doc\u001b[39m(GroupBy\u001b[39m.\u001b[39msize)\n\u001b[0;32m    <a href='file:///c%3A/local_repos/pandora/env/lib/site-packages/pandas/core/resample.py?line=964'>965</a>\u001b[0m \u001b[39mdef\u001b[39;00m \u001b[39msize\u001b[39m(\u001b[39mself\u001b[39m):\n\u001b[1;32m--> <a href='file:///c%3A/local_repos/pandora/env/lib/site-packages/pandas/core/resample.py?line=965'>966</a>\u001b[0m     result \u001b[39m=\u001b[39m \u001b[39mself\u001b[39;49m\u001b[39m.\u001b[39;49m_downsample(\u001b[39m\"\u001b[39;49m\u001b[39msize\u001b[39;49m\u001b[39m\"\u001b[39;49m)\n\u001b[0;32m    <a href='file:///c%3A/local_repos/pandora/env/lib/site-packages/pandas/core/resample.py?line=966'>967</a>\u001b[0m     \u001b[39mif\u001b[39;00m \u001b[39mnot\u001b[39;00m \u001b[39mlen\u001b[39m(\u001b[39mself\u001b[39m\u001b[39m.\u001b[39max):\n\u001b[0;32m    <a href='file:///c%3A/local_repos/pandora/env/lib/site-packages/pandas/core/resample.py?line=967'>968</a>\u001b[0m         \u001b[39mfrom\u001b[39;00m \u001b[39mpandas\u001b[39;00m \u001b[39mimport\u001b[39;00m Series\n",
      "File \u001b[1;32mc:\\local_repos\\pandora\\env\\lib\\site-packages\\pandas\\core\\resample.py:1180\u001b[0m, in \u001b[0;36mDatetimeIndexResampler._downsample\u001b[1;34m(self, how, **kwargs)\u001b[0m\n\u001b[0;32m   <a href='file:///c%3A/local_repos/pandora/env/lib/site-packages/pandas/core/resample.py?line=1173'>1174</a>\u001b[0m     \u001b[39mreturn\u001b[39;00m obj\n\u001b[0;32m   <a href='file:///c%3A/local_repos/pandora/env/lib/site-packages/pandas/core/resample.py?line=1175'>1176</a>\u001b[0m \u001b[39m# do we have a regular frequency\u001b[39;00m\n\u001b[0;32m   <a href='file:///c%3A/local_repos/pandora/env/lib/site-packages/pandas/core/resample.py?line=1176'>1177</a>\u001b[0m \n\u001b[0;32m   <a href='file:///c%3A/local_repos/pandora/env/lib/site-packages/pandas/core/resample.py?line=1177'>1178</a>\u001b[0m \u001b[39m# error: Item \"None\" of \"Optional[Any]\" has no attribute \"binlabels\"\u001b[39;00m\n\u001b[0;32m   <a href='file:///c%3A/local_repos/pandora/env/lib/site-packages/pandas/core/resample.py?line=1178'>1179</a>\u001b[0m \u001b[39mif\u001b[39;00m (\n\u001b[1;32m-> <a href='file:///c%3A/local_repos/pandora/env/lib/site-packages/pandas/core/resample.py?line=1179'>1180</a>\u001b[0m     (ax\u001b[39m.\u001b[39mfreq \u001b[39mis\u001b[39;00m \u001b[39mnot\u001b[39;00m \u001b[39mNone\u001b[39;00m \u001b[39mor\u001b[39;00m ax\u001b[39m.\u001b[39;49minferred_freq \u001b[39mis\u001b[39;00m \u001b[39mnot\u001b[39;00m \u001b[39mNone\u001b[39;00m)\n\u001b[0;32m   <a href='file:///c%3A/local_repos/pandora/env/lib/site-packages/pandas/core/resample.py?line=1180'>1181</a>\u001b[0m     \u001b[39mand\u001b[39;00m \u001b[39mlen\u001b[39m(\u001b[39mself\u001b[39m\u001b[39m.\u001b[39mgrouper\u001b[39m.\u001b[39mbinlabels) \u001b[39m>\u001b[39m \u001b[39mlen\u001b[39m(ax)\n\u001b[0;32m   <a href='file:///c%3A/local_repos/pandora/env/lib/site-packages/pandas/core/resample.py?line=1181'>1182</a>\u001b[0m     \u001b[39mand\u001b[39;00m how \u001b[39mis\u001b[39;00m \u001b[39mNone\u001b[39;00m\n\u001b[0;32m   <a href='file:///c%3A/local_repos/pandora/env/lib/site-packages/pandas/core/resample.py?line=1182'>1183</a>\u001b[0m ):\n\u001b[0;32m   <a href='file:///c%3A/local_repos/pandora/env/lib/site-packages/pandas/core/resample.py?line=1183'>1184</a>\u001b[0m \n\u001b[0;32m   <a href='file:///c%3A/local_repos/pandora/env/lib/site-packages/pandas/core/resample.py?line=1184'>1185</a>\u001b[0m     \u001b[39m# let's do an asfreq\u001b[39;00m\n\u001b[0;32m   <a href='file:///c%3A/local_repos/pandora/env/lib/site-packages/pandas/core/resample.py?line=1185'>1186</a>\u001b[0m     \u001b[39mreturn\u001b[39;00m \u001b[39mself\u001b[39m\u001b[39m.\u001b[39masfreq()\n\u001b[0;32m   <a href='file:///c%3A/local_repos/pandora/env/lib/site-packages/pandas/core/resample.py?line=1187'>1188</a>\u001b[0m \u001b[39m# we are downsampling\u001b[39;00m\n\u001b[0;32m   <a href='file:///c%3A/local_repos/pandora/env/lib/site-packages/pandas/core/resample.py?line=1188'>1189</a>\u001b[0m \u001b[39m# we want to call the actual grouper method here\u001b[39;00m\n",
      "File \u001b[1;32mc:\\local_repos\\pandora\\env\\lib\\site-packages\\pandas\\_libs\\properties.pyx:37\u001b[0m, in \u001b[0;36mpandas._libs.properties.CachedProperty.__get__\u001b[1;34m()\u001b[0m\n",
      "File \u001b[1;32mc:\\local_repos\\pandora\\env\\lib\\site-packages\\pandas\\core\\indexes\\extension.py:59\u001b[0m, in \u001b[0;36m_inherit_from_data.<locals>.cached\u001b[1;34m(self)\u001b[0m\n\u001b[0;32m     <a href='file:///c%3A/local_repos/pandora/env/lib/site-packages/pandas/core/indexes/extension.py?line=57'>58</a>\u001b[0m \u001b[39mdef\u001b[39;00m \u001b[39mcached\u001b[39m(\u001b[39mself\u001b[39m):\n\u001b[1;32m---> <a href='file:///c%3A/local_repos/pandora/env/lib/site-packages/pandas/core/indexes/extension.py?line=58'>59</a>\u001b[0m     \u001b[39mreturn\u001b[39;00m \u001b[39mgetattr\u001b[39;49m(\u001b[39mself\u001b[39;49m\u001b[39m.\u001b[39;49m_data, name)\n",
      "File \u001b[1;32mc:\\local_repos\\pandora\\env\\lib\\site-packages\\pandas\\core\\arrays\\datetimelike.py:917\u001b[0m, in \u001b[0;36mDatetimeLikeArrayMixin.inferred_freq\u001b[1;34m(self)\u001b[0m\n\u001b[0;32m    <a href='file:///c%3A/local_repos/pandora/env/lib/site-packages/pandas/core/arrays/datetimelike.py?line=914'>915</a>\u001b[0m     \u001b[39mreturn\u001b[39;00m \u001b[39mNone\u001b[39;00m\n\u001b[0;32m    <a href='file:///c%3A/local_repos/pandora/env/lib/site-packages/pandas/core/arrays/datetimelike.py?line=915'>916</a>\u001b[0m \u001b[39mtry\u001b[39;00m:\n\u001b[1;32m--> <a href='file:///c%3A/local_repos/pandora/env/lib/site-packages/pandas/core/arrays/datetimelike.py?line=916'>917</a>\u001b[0m     \u001b[39mreturn\u001b[39;00m frequencies\u001b[39m.\u001b[39;49minfer_freq(\u001b[39mself\u001b[39;49m)\n\u001b[0;32m    <a href='file:///c%3A/local_repos/pandora/env/lib/site-packages/pandas/core/arrays/datetimelike.py?line=917'>918</a>\u001b[0m \u001b[39mexcept\u001b[39;00m \u001b[39mValueError\u001b[39;00m:\n\u001b[0;32m    <a href='file:///c%3A/local_repos/pandora/env/lib/site-packages/pandas/core/arrays/datetimelike.py?line=918'>919</a>\u001b[0m     \u001b[39mreturn\u001b[39;00m \u001b[39mNone\u001b[39;00m\n",
      "File \u001b[1;32mc:\\local_repos\\pandora\\env\\lib\\site-packages\\pandas\\tseries\\frequencies.py:202\u001b[0m, in \u001b[0;36minfer_freq\u001b[1;34m(index, warn)\u001b[0m\n\u001b[0;32m    <a href='file:///c%3A/local_repos/pandora/env/lib/site-packages/pandas/tseries/frequencies.py?line=198'>199</a>\u001b[0m \u001b[39mif\u001b[39;00m \u001b[39mnot\u001b[39;00m \u001b[39misinstance\u001b[39m(index, DatetimeIndex):\n\u001b[0;32m    <a href='file:///c%3A/local_repos/pandora/env/lib/site-packages/pandas/tseries/frequencies.py?line=199'>200</a>\u001b[0m     index \u001b[39m=\u001b[39m DatetimeIndex(index)\n\u001b[1;32m--> <a href='file:///c%3A/local_repos/pandora/env/lib/site-packages/pandas/tseries/frequencies.py?line=201'>202</a>\u001b[0m inferer \u001b[39m=\u001b[39m _FrequencyInferer(index, warn\u001b[39m=\u001b[39;49mwarn)\n\u001b[0;32m    <a href='file:///c%3A/local_repos/pandora/env/lib/site-packages/pandas/tseries/frequencies.py?line=202'>203</a>\u001b[0m \u001b[39mreturn\u001b[39;00m inferer\u001b[39m.\u001b[39mget_freq()\n",
      "\u001b[1;31mKeyboardInterrupt\u001b[0m: "
     ]
    }
   ],
   "source": [
    "recommend_most_popular_df = transactions\\\n",
    "    .groupby('article_id')\\\n",
    "    .resample(\"1M\", on=\"t_dat\")\\\n",
    "    .size()\\\n",
    "    .rename(\"sales\")\\\n",
    "    .reset_index()"
   ]
  },
  {
   "cell_type": "markdown",
   "metadata": {},
   "source": [
    "This way, we can simply recommend the most popular products each month. If its the start of the month, then the previous month's popular products would be better to recommend"
   ]
  },
  {
   "cell_type": "code",
   "execution_count": null,
   "metadata": {},
   "outputs": [],
   "source": [
    "def recommend_articles(date: datetime, n: int=10) -> list[int]:\n",
    "    year            = date.year\n",
    "    month           = date.month if date.day > 10 else (date - timedelta(days=31)).month\n",
    "    most_popular    = recommend_most_popular_df\\\n",
    "        .where(lambda x: (x.t_dat.dt.year == year) & (x.t_dat.dt.month == month))\\\n",
    "        .nlargest(n, \"sales\")\n",
    "\n",
    "    return most_popular.article_id.astype(int).tolist()"
   ]
  },
  {
   "cell_type": "markdown",
   "metadata": {},
   "source": [
    "# Use very simple popularity recommender:"
   ]
  },
  {
   "cell_type": "code",
   "execution_count": null,
   "metadata": {},
   "outputs": [
    {
     "ename": "NameError",
     "evalue": "name 'datetime' is not defined",
     "output_type": "error",
     "traceback": [
      "\u001b[1;31m---------------------------------------------------------------------------\u001b[0m",
      "\u001b[1;31mNameError\u001b[0m                                 Traceback (most recent call last)",
      "\u001b[1;32mc:\\local_repos\\pandora\\recommender.ipynb Cell 8'\u001b[0m in \u001b[0;36m<cell line: 1>\u001b[1;34m()\u001b[0m\n\u001b[1;32m----> <a href='vscode-notebook-cell:/c%3A/local_repos/pandora/recommender.ipynb#ch0000004?line=0'>1</a>\u001b[0m d \u001b[39m=\u001b[39m datetime(\u001b[39m2019\u001b[39m, \u001b[39m9\u001b[39m,\u001b[39m8\u001b[39m)\n\u001b[0;32m      <a href='vscode-notebook-cell:/c%3A/local_repos/pandora/recommender.ipynb#ch0000004?line=1'>2</a>\u001b[0m recommend_articles(d)\n",
      "\u001b[1;31mNameError\u001b[0m: name 'datetime' is not defined"
     ]
    }
   ],
   "source": [
    "d = datetime(2019, 9,8)\n",
    "recommend_articles(d)"
   ]
  }
 ],
 "metadata": {
  "interpreter": {
   "hash": "a7d56a5193b96be9cbef1da19ad440ea3c0e5dfb3d8a1c0545f20a420c0eec0b"
  },
  "kernelspec": {
   "display_name": "Python 3.10.2 ('env': venv)",
   "language": "python",
   "name": "python3"
  },
  "language_info": {
   "codemirror_mode": {
    "name": "ipython",
    "version": 3
   },
   "file_extension": ".py",
   "mimetype": "text/x-python",
   "name": "python",
   "nbconvert_exporter": "python",
   "pygments_lexer": "ipython3",
   "version": "3.10.2"
  },
  "orig_nbformat": 4
 },
 "nbformat": 4,
 "nbformat_minor": 2
}
